{
 "cells": [
  {
   "cell_type": "code",
   "execution_count": 61,
   "metadata": {
    "collapsed": true
   },
   "outputs": [],
   "source": [
    "import matplotlib as mpl\n",
    "mpl.rcParams['pdf.fonttype'] = 42\n",
    "mpl.rcParams['legend.numpoints'] = 1\n",
    "import pandas as pd\n",
    "import numpy as np\n",
    "import seaborn as sns\n",
    "from scipy import stats\n",
    "%matplotlib inline\n",
    "import matplotlib.pyplot as plt\n",
    "from sklearn import linear_model\n",
    "from sklearn import metrics\n",
    "from sklearn import multiclass\n",
    "from sklearn import svm\n",
    "from scipy.stats import ttest_ind\n",
    "import os\n",
    "from scipy.spatial import distance\n",
    "from sklearn.linear_model import LogisticRegression\n",
    "from sklearn import model_selection\n",
    "from sklearn import linear_model\n",
    "from scipy import stats\n",
    "import random\n",
    "sns.set_style(\"white\")\n",
    "def zScore(M):\n",
    "    return (M-M.mean(axis=0))/M.std(axis=0)\n",
    "def cdist_df(df1,df2):\n",
    "    df1T,df2T=df1.T, df2.T\n",
    "    corrM=1-distance.cdist(df1T,df2T,metric='correlation')\n",
    "    return pd.DataFrame(corrM,index=df1.columns,columns=df2.columns  )"
   ]
  },
  {
   "cell_type": "code",
   "execution_count": 97,
   "metadata": {
    "collapsed": true
   },
   "outputs": [],
   "source": [
    "unifiedChipDataDfDir='/cellar/users/btsui/Data/Project/KangZhang/deconData/450k_5mc_site_overlap.pickle'\n",
    "\n",
    "subsetCfDnaDiseases=['nsclc','normal']\n",
    "#methylation data input dir\n",
    "DataInDir=\"./featureMatrix/\"\n",
    "#results output dirs\n",
    "resultBaseDir='./Results/'\n",
    "#input fdirs\n",
    "#['raw', 'beta', 'normed','MCB_sample_filtered','MCB_with_burden','beta_plus_readDf']\n",
    "featureSpace='raw'"
   ]
  },
  {
   "cell_type": "code",
   "execution_count": 79,
   "metadata": {
    "collapsed": true
   },
   "outputs": [],
   "source": [
    "inFeatureDf=pd.read_pickle(DataInDir+featureSpace+'_readcount.pickle')[subsetCfDnaDiseases]\n",
    "\n",
    "cancer_vs_cancer_reg=LogisticRegression(multi_class= 'multinomial',solver='newton-cg')"
   ]
  },
  {
   "cell_type": "code",
   "execution_count": null,
   "metadata": {},
   "outputs": [],
   "source": []
  },
  {
   "cell_type": "code",
   "execution_count": 80,
   "metadata": {
    "collapsed": true
   },
   "outputs": [],
   "source": [
    "effect_threshold=0.25"
   ]
  },
  {
   "cell_type": "code",
   "execution_count": 81,
   "metadata": {},
   "outputs": [],
   "source": [
    "raw_chip_df=pd.read_pickle('../../pan_cancer/cfDNA_data_inter/450k_5mc_site_overlap.pickle')\n",
    "\n",
    "padlock_cpg_sites=inFeatureDf.index.get_level_values(1).unique()\n",
    "\n",
    "#sub_chip_df.head()\n",
    "\n",
    "## replace lasso markers with lasso_c_n_markers\n",
    "cpg_m=raw_chip_df.index.isin(padlock_cpg_sites)\n",
    "sub_chip_df=raw_chip_df[cpg_m].dropna()\n",
    "cancer_m=sub_chip_df.columns.get_level_values(0).isin(['luad','lusc'])\n",
    "sample_type_m=sub_chip_df.columns.get_level_values('SAMPLE_TYPE')=='01'\n",
    "cancer_df=sub_chip_df.loc[:,cancer_m&sample_type_m\n",
    "                    ]\n",
    "cancer_S=cancer_df.median(axis=1)\n",
    "normal_S=sub_chip_df.loc[:,('normal','11')  ].median(axis=1)\n",
    "dm_S=cancer_S-normal_S#['luad']['01']\n",
    "dm_S=dm_S.dropna()\n",
    "\n",
    "\n",
    "\n",
    "dm_filtered_cpgs=dm_S.index[dm_S.abs()>=effect_threshold]\n",
    "dm_filtered_cpgs=pd.Series(dm_filtered_cpgs).sort_values()\n",
    "distanceToPrevMcb=dm_filtered_cpgs.str.split('-').str[1].astype(np.int).diff()\n",
    "unique_dm_markers=(dm_filtered_cpgs[~(distanceToPrevMcb<100)])\n",
    "unique_dm_markers.index=unique_dm_markers.values"
   ]
  },
  {
   "cell_type": "code",
   "execution_count": 82,
   "metadata": {},
   "outputs": [
    {
     "name": "stdout",
     "output_type": "stream",
     "text": [
      "# of markers: 67\n"
     ]
    }
   ],
   "source": [
    "print '# of markers:',len(unique_dm_markers)"
   ]
  },
  {
   "cell_type": "code",
   "execution_count": 83,
   "metadata": {
    "collapsed": true
   },
   "outputs": [],
   "source": [
    "\n",
    "myMarkerS=pd.concat([unique_dm_markers.index.to_series(), unique_dm_markers.index.to_series()], keys=['mc','non_mc'])"
   ]
  },
  {
   "cell_type": "markdown",
   "metadata": {},
   "source": [
    "### do normal vs cancer"
   ]
  },
  {
   "cell_type": "code",
   "execution_count": 84,
   "metadata": {
    "collapsed": true
   },
   "outputs": [],
   "source": [
    "feautureLabel='TSS'"
   ]
  },
  {
   "cell_type": "code",
   "execution_count": 85,
   "metadata": {
    "collapsed": true
   },
   "outputs": [],
   "source": [
    "test_size_ratio=0.5"
   ]
  },
  {
   "cell_type": "code",
   "execution_count": 86,
   "metadata": {
    "collapsed": true
   },
   "outputs": [],
   "source": [
    "clinDf=pd.read_excel('tmp_clin.xlsx')"
   ]
  },
  {
   "cell_type": "code",
   "execution_count": 87,
   "metadata": {
    "collapsed": true
   },
   "outputs": [],
   "source": [
    "patientsWBurden=clinDf.index[clinDf['tumor_burden'].str.upper()=='Y']"
   ]
  },
  {
   "cell_type": "code",
   "execution_count": 88,
   "metadata": {
    "collapsed": true
   },
   "outputs": [],
   "source": [
    "reI_Df=inFeatureDf.copy().T\n",
    "\n",
    "tmpMetaDf=reI_Df.index.to_series().to_frame().reset_index()\n",
    "m=tmpMetaDf['ID'].isin(patientsWBurden)\n",
    "m2=tmpMetaDf['TSS']=='normal'\n",
    "m3=tmpMetaDf.TSS.isin(subsetCfDnaDiseases)\n",
    "tmpMetaDf['tumor_burden']=((m&m3)|m2)\n",
    "\n",
    "reI_Df.index=tmpMetaDf.set_index(['TSS','ID','tumor_burden']).index\n",
    "reI_Df=reI_Df.sort_index()"
   ]
  },
  {
   "cell_type": "markdown",
   "metadata": {},
   "source": [
    "### make sure the "
   ]
  },
  {
   "cell_type": "code",
   "execution_count": 89,
   "metadata": {
    "collapsed": true
   },
   "outputs": [],
   "source": [
    "myInDf=reI_Df.loc[reI_Df.index.get_level_values('tumor_burden').values]\n",
    "\n",
    "orderScrambedDf=myInDf.sample(n=myInDf.shape[0],random_state=0)\n",
    "myTmpDfList=[]\n",
    "for g,subDf in  orderScrambedDf.groupby(level='TSS'):\n",
    "    myTmpDfList.append(subDf.head(int(subDf.shape[0]*test_size_ratio)))\n",
    "X_train=pd.concat(myTmpDfList,axis=0)\n",
    "X_test=reI_Df[~reI_Df.index.isin(X_train.index)]\n"
   ]
  },
  {
   "cell_type": "code",
   "execution_count": 90,
   "metadata": {
    "collapsed": true
   },
   "outputs": [],
   "source": [
    "myTrainTestDf=pd.concat([X_train,X_test],axis=0,keys=['train','test']).sort_index()"
   ]
  },
  {
   "cell_type": "code",
   "execution_count": 91,
   "metadata": {
    "collapsed": true
   },
   "outputs": [],
   "source": [
    "myTrainTestDf.index.names=['Status','TSS','ID','tumor_burden']"
   ]
  },
  {
   "cell_type": "code",
   "execution_count": 92,
   "metadata": {},
   "outputs": [
    {
     "data": {
      "text/plain": [
       "Status  tumor_burden  TSS   \n",
       "test    False         nsclc      315\n",
       "        True          normal    1742\n",
       "                      nsclc      369\n",
       "train   True          normal    1742\n",
       "                      nsclc      368\n",
       "dtype: int64"
      ]
     },
     "execution_count": 92,
     "metadata": {},
     "output_type": "execute_result"
    }
   ],
   "source": [
    "myTrainTestDf.groupby(level=['Status','tumor_burden','TSS']).size()"
   ]
  },
  {
   "cell_type": "code",
   "execution_count": 93,
   "metadata": {
    "collapsed": true
   },
   "outputs": [],
   "source": [
    "\n",
    "#lasso_markers=unique_dm_markers"
   ]
  },
  {
   "cell_type": "markdown",
   "metadata": {},
   "source": [
    "### build models"
   ]
  },
  {
   "cell_type": "code",
   "execution_count": 94,
   "metadata": {},
   "outputs": [
    {
     "data": {
      "text/plain": [
       "array([False, False, False, ...,  True,  True,  True], dtype=bool)"
      ]
     },
     "execution_count": 94,
     "metadata": {},
     "output_type": "execute_result"
    }
   ],
   "source": [
    "cancer_vs_norm_reg=LogisticRegression(multi_class= 'multinomial',\n",
    "                                      solver='newton-cg')\n",
    "\n",
    "m1=X_train.columns.isin(myMarkerS.index)\n",
    "myFeatureList=X_train.columns[m1]\n",
    "sub_X_train=X_train.loc[:,m1]\n",
    "y_labels=sub_X_train.index.get_level_values('TSS')!='normal'\n",
    "cancer_vs_norm_reg.fit(X=sub_X_train,y=y_labels)\n",
    "y_labels\n"
   ]
  },
  {
   "cell_type": "markdown",
   "metadata": {},
   "source": [
    "### generate score for both training and testing sets"
   ]
  },
  {
   "cell_type": "code",
   "execution_count": 95,
   "metadata": {
    "collapsed": true
   },
   "outputs": [],
   "source": [
    "subTrainTestDf=myTrainTestDf.loc[:,m1]\n",
    "all_score=cancer_vs_norm_reg.predict_proba(\n",
    "subTrainTestDf)[:,1]\n",
    "cancer_vs_normal_probaS=pd.Series(all_score,index=myTrainTestDf.index)\n",
    "all_score=cancer_vs_norm_reg.decision_function(subTrainTestDf)#[:,1]\n",
    "cancer_vs_normal_scoreS=pd.Series(all_score,index=myTrainTestDf.index)"
   ]
  },
  {
   "cell_type": "markdown",
   "metadata": {},
   "source": [
    "### evaluate performance in test set"
   ]
  },
  {
   "cell_type": "code",
   "execution_count": 96,
   "metadata": {},
   "outputs": [
    {
     "name": "stdout",
     "output_type": "stream",
     "text": [
      "ROC-AUC: 0.952129595923\n"
     ]
    },
    {
     "data": {
      "image/png": "[encoded data removed]",
      "text/plain": [
       "<matplotlib.figure.Figure at 0x7f64c50b1cd0>"
      ]
     },
     "metadata": {},
     "output_type": "display_data"
    }
   ],
   "source": [
    "fig,ax=plt.subplots()\n",
    "m2=cancer_vs_normal_probaS.index.get_level_values('tumor_burden').values\n",
    "m1=(cancer_vs_normal_probaS.index.get_level_values('Status')=='test')\n",
    "m3=cancer_vs_normal_probaS.index.get_level_values('TSS').isin(subsetCfDnaDiseases)\n",
    "inEvalS=cancer_vs_normal_probaS.loc[(m1&m3)&m2]\n",
    "y_true=inEvalS.index.get_level_values(feautureLabel).values!='normal'\n",
    "fpr,tpr,thresholds= metrics.roc_curve(y_true,inEvalS)\n",
    "normal_cancer_rocDf=pd.DataFrame({'tpr':tpr,'fpr':fpr,'threshold':thresholds})\n",
    "auc=metrics.auc(fpr,tpr)\n",
    "plt.plot(fpr,tpr)\n",
    "print 'ROC-AUC:',auc"
   ]
  },
  {
   "cell_type": "markdown",
   "metadata": {},
   "source": [
    "### generate cancer vs cancer models"
   ]
  },
  {
   "cell_type": "code",
   "execution_count": 26,
   "metadata": {
    "collapsed": true
   },
   "outputs": [],
   "source": [
    "classificationMethod='logistic_reg'\n",
    "\n",
    "resultPrefix='./interData/'+featureSpace+'_classification_'+classificationMethod\n",
    "\n",
    "\n",
    "#cancerVsCancerProbaDf.loc[:,'cancer_vs_normal']=cancer_vs_normal_probaS.loc[:]\n",
    "cancer_vs_normal_probaS.to_frame('cancer_vs_normal').to_pickle(\n",
    "    resultPrefix+'_result_proba.pickle')\n",
    "cancer_vs_normal_scoreS.to_frame('cancer_vs_normal').to_pickle(\n",
    "    resultPrefix+'_result_dot.pickle')\n",
    "cancer_vs_normal_coeff=pd.Series(cancer_vs_norm_reg.coef_[0,:],index=subTrainTestDf.columns)\n",
    "cancer_vs_normal_coeff.loc[('intercept','intercept')]=cancer_vs_norm_reg.intercept_[0]\n",
    "\n",
    "coeffDf=pd.DataFrame({'normal_vs_cancer':cancer_vs_normal_coeff})\n",
    "\n",
    "coeffDf.to_pickle(resultPrefix+'_classification_coefficients.pickle')\n"
   ]
  },
  {
   "cell_type": "code",
   "execution_count": 27,
   "metadata": {
    "collapsed": true
   },
   "outputs": [],
   "source": [
    "myCoeffS=pd.Series(cancer_vs_norm_reg.coef_[0],index=sub_X_train.columns)\n",
    "myCoeffS.to_pickle(resultPrefix+'_marker_group.pickle')"
   ]
  },
  {
   "cell_type": "code",
   "execution_count": 28,
   "metadata": {},
   "outputs": [
    {
     "data": {
      "text/plain": [
       "'./interData/raw_classification_lasso_classification_coefficients.pickle'"
      ]
     },
     "execution_count": 28,
     "metadata": {},
     "output_type": "execute_result"
    }
   ],
   "source": [
    "resultPrefix+'_classification_coefficients.pickle'"
   ]
  }
 ],
 "metadata": {
  "kernelspec": {
   "display_name": "Python 2",
   "language": "python",
   "name": "python2"
  },
  "language_info": {
   "codemirror_mode": {
    "name": "ipython",
    "version": 2
   },
   "file_extension": ".py",
   "mimetype": "text/x-python",
   "name": "python",
   "nbconvert_exporter": "python",
   "pygments_lexer": "ipython2",
   "version": "2.7.14"
  }
 },
 "nbformat": 4,
 "nbformat_minor": 1
}
